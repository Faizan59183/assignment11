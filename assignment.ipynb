{
 "cells": [
  {
   "cell_type": "code",
   "execution_count": 1,
   "metadata": {},
   "outputs": [
    {
     "name": "stdout",
     "output_type": "stream",
     "text": [
      "Twinkle, twinkle, little star,\n",
      "      How I wonder what you are!\n",
      "            Up above the world so high,\n",
      "            Like a diamond in the sky.\n",
      "Twinkle, twinkle, little star,\n",
      "      How I wonder what you are\n"
     ]
    }
   ],
   "source": [
    "print(\"Twinkle, twinkle, little star,\\n      How I wonder what you are!\\n            Up above the world so high,\\n            Like a diamond in the sky.\\nTwinkle, twinkle, little star,\\n      How I wonder what you are\")"
   ]
  },
  {
   "cell_type": "code",
   "execution_count": 2,
   "metadata": {},
   "outputs": [
    {
     "name": "stdout",
     "output_type": "stream",
     "text": [
      "Enter 1st no: 3\n",
      "Enter 2nd no: 5\n",
      "Python version 3\n"
     ]
    }
   ],
   "source": [
    "#Python version checking program:\n",
    "a=int(input(\"Enter 1st no: \"))\n",
    "b=int(input(\"Enter 2nd no: \"))\n",
    "c=a/b\n",
    "if c==a//b :\n",
    "    print(\"Python version 2\")\n",
    "else :\n",
    "    print(\"Python version 3\")"
   ]
  },
  {
   "cell_type": "code",
   "execution_count": 3,
   "metadata": {},
   "outputs": [
    {
     "name": "stdout",
     "output_type": "stream",
     "text": [
      "Enter your Percentage :%72\n",
      "A\n"
     ]
    }
   ],
   "source": [
    "#Marksheet Program\n",
    "per=int(input(\"Enter your Percentage :%\"))\n",
    "if per >= 80 and per <= 100:\n",
    "    print(\"A+\")\n",
    "elif per >=70 and per < 80 :\n",
    "    print(\"A\")\n",
    "elif per >=60 and per < 70 :\n",
    "    print(\"B\")\n",
    "elif per >=50 and per < 60 :\n",
    "    print(\"C\")\n",
    "elif per >=40 and per < 60 :\n",
    "    print(\"D\")\n",
    "elif per >=33 and per < 40 :\n",
    "    print(\"E\")\n",
    "elif per >=0 and per < 33 :\n",
    "    print(\"Fail\")\n",
    "else :\n",
    "    print(\"You have given inappropriate %\")"
   ]
  },
  {
   "cell_type": "code",
   "execution_count": 4,
   "metadata": {},
   "outputs": [
    {
     "name": "stdout",
     "output_type": "stream",
     "text": [
      "Enter First Name: Faizan\n",
      "Enter Second Name: Khan\n",
      "In Reverse Order: Khan Faizan\n"
     ]
    }
   ],
   "source": [
    "#Print last name first and then give space then First name\n",
    "firstName=input(\"Enter First Name: \")\n",
    "lastName=input(\"Enter Second Name: \")\n",
    "print(\"In Reverse Order: \"+lastName+\" \"+firstName)"
   ]
  },
  {
   "cell_type": "code",
   "execution_count": 5,
   "metadata": {},
   "outputs": [
    {
     "name": "stdout",
     "output_type": "stream",
     "text": [
      "Enter Radius : 4\n",
      "Circle Area is : 50\n"
     ]
    }
   ],
   "source": [
    "#Circle area finding\n",
    "radius=int(input(\"Enter Radius : \"))\n",
    "circle_area=int(3.141*(radius**2))\n",
    "print(\"Circle Area is : \"+str(circle_area))\n"
   ]
  },
  {
   "cell_type": "code",
   "execution_count": 6,
   "metadata": {},
   "outputs": [
    {
     "name": "stdout",
     "output_type": "stream",
     "text": [
      "Current date and time : \n",
      "2019-11-04 19:41:56\n"
     ]
    }
   ],
   "source": [
    "#Current Date and Time\n",
    "import datetime\n",
    "now = datetime.datetime.now()\n",
    "print (\"Current date and time : \")\n",
    "print (now.strftime(\"%Y-%m-%d %H:%M:%S\"))"
   ]
  },
  {
   "cell_type": "code",
   "execution_count": 7,
   "metadata": {},
   "outputs": [
    {
     "name": "stdout",
     "output_type": "stream",
     "text": [
      "Enter 1st Number: 5\n",
      "Enter 2nd Number: 9\n",
      "14\n"
     ]
    }
   ],
   "source": [
    "#sum\n",
    "a=int(input(\"Enter 1st Number: \"))\n",
    "b=int(input(\"Enter 2nd Number: \"))\n",
    "c=a+b\n",
    "print(c)"
   ]
  },
  {
   "cell_type": "code",
   "execution_count": null,
   "metadata": {},
   "outputs": [],
   "source": []
  }
 ],
 "metadata": {
  "kernelspec": {
   "display_name": "Python 3",
   "language": "python",
   "name": "python3"
  },
  "language_info": {
   "codemirror_mode": {
    "name": "ipython",
    "version": 3
   },
   "file_extension": ".py",
   "mimetype": "text/x-python",
   "name": "python",
   "nbconvert_exporter": "python",
   "pygments_lexer": "ipython3",
   "version": "3.7.4"
  }
 },
 "nbformat": 4,
 "nbformat_minor": 2
}
